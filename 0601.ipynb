{
  "nbformat": 4,
  "nbformat_minor": 0,
  "metadata": {
    "colab": {
      "name": "0601.ipynb",
      "provenance": [],
      "collapsed_sections": [],
      "authorship_tag": "ABX9TyNqsB76D21JRWqT24dXEvlo",
      "include_colab_link": true
    },
    "kernelspec": {
      "name": "python3",
      "display_name": "Python 3"
    },
    "language_info": {
      "name": "python"
    }
  },
  "cells": [
    {
      "cell_type": "markdown",
      "metadata": {
        "id": "view-in-github",
        "colab_type": "text"
      },
      "source": [
        "<a href=\"https://colab.research.google.com/github/biscuitmin/introduction-for-computers/blob/main/0601.ipynb\" target=\"_parent\"><img src=\"https://colab.research.google.com/assets/colab-badge.svg\" alt=\"Open In Colab\"/></a>"
      ]
    },
    {
      "cell_type": "code",
      "execution_count": null,
      "metadata": {
        "colab": {
          "base_uri": "https://localhost:8080/"
        },
        "id": "a-gNRDQInuFd",
        "outputId": "e8c0ab87-6ef2-4370-ccc9-c438b2eb1217"
      },
      "outputs": [
        {
          "output_type": "stream",
          "name": "stdout",
          "text": [
            "2*1= 2 2*2= 4 2*3= 6 2*4= 8 2*5=10 2*6=12 2*7=14 2*8=16 2*9=18 \n",
            "3*1= 3 3*2= 6 3*3= 9 3*4=12 3*5=15 3*6=18 3*7=21 3*8=24 3*9=27 \n",
            "4*1= 4 4*2= 8 4*3=12 4*4=16 4*5=20 4*6=24 4*7=28 4*8=32 4*9=36 \n",
            "5*1= 5 5*2=10 5*3=15 5*4=20 5*5=25 5*6=30 5*7=35 5*8=40 5*9=45 \n",
            "6*1= 6 6*2=12 6*3=18 6*4=24 6*5=30 6*6=36 6*7=42 6*8=48 6*9=54 \n",
            "7*1= 7 7*2=14 7*3=21 7*4=28 7*5=35 7*6=42 7*7=49 7*8=56 7*9=63 \n",
            "8*1= 8 8*2=16 8*3=24 8*4=32 8*5=40 8*6=48 8*7=56 8*8=64 8*9=72 \n",
            "9*1= 9 9*2=18 9*3=27 9*4=36 9*5=45 9*6=54 9*7=63 9*8=72 9*9=81 \n"
          ]
        }
      ],
      "source": [
        "for i in range(2,10):\n",
        "  for j in range(1,10):\n",
        "    product = i * j\n",
        "    print(\"%d*%d=%2d\" % (i, j, product), end=\" \")\n",
        "  print()"
      ]
    },
    {
      "cell_type": "code",
      "source": [
        "a = int(input(\"請輸入 a 的值:\"))\n",
        "b = int(input(\"請輸入 b 的值:\"))\n",
        "max = a * b\n",
        "for i in range(1,max+1):\n",
        "  if(i % a == 0 and i % b ==0):\n",
        "    break\n",
        "print(\"%d 和 %d 的最小公倍數=%d\" % (a,b,i))"
      ],
      "metadata": {
        "id": "MdKfgMdEn1Tf",
        "colab": {
          "base_uri": "https://localhost:8080/"
        },
        "outputId": "96cf9a22-83d1-41bb-f131-6bb567ba002d"
      },
      "execution_count": null,
      "outputs": [
        {
          "output_type": "stream",
          "name": "stdout",
          "text": [
            "請輸入 a 的值:4\n",
            "請輸入 b 的值:5\n",
            "4 和 5 的最小公倍數=20\n"
          ]
        }
      ]
    },
    {
      "cell_type": "code",
      "source": [
        "n = int(input(\"請輸入正整數:\"))\n",
        "for i in range(1,n+1):\n",
        "  if i % 5 ==0:\n",
        "    continue\n",
        "  print(i,end=\" \")"
      ],
      "metadata": {
        "id": "iWVl3hq5n1ZQ",
        "colab": {
          "base_uri": "https://localhost:8080/"
        },
        "outputId": "fdad101b-b743-4453-9505-9a981dacaa88"
      },
      "execution_count": null,
      "outputs": [
        {
          "output_type": "stream",
          "name": "stdout",
          "text": [
            "請輸入正整數:25\n",
            "1 2 3 4 6 7 8 9 11 12 13 14 16 17 18 19 21 22 23 24 "
          ]
        }
      ]
    },
    {
      "cell_type": "code",
      "source": [
        "total = n = 0\n",
        "while(n < 10):\n",
        "  n += 1\n",
        "  total += n\n",
        "print(total)"
      ],
      "metadata": {
        "id": "aB5wkX2nn1cQ",
        "colab": {
          "base_uri": "https://localhost:8080/"
        },
        "outputId": "7b28523a-e712-48ed-b69a-d837c1c56c18"
      },
      "execution_count": null,
      "outputs": [
        {
          "output_type": "stream",
          "name": "stdout",
          "text": [
            "55\n"
          ]
        }
      ]
    },
    {
      "cell_type": "code",
      "source": [
        "total = n = 0\n",
        "while(n < 10):\n",
        "  total += n\n",
        "  n  += 1\n",
        "print(total)"
      ],
      "metadata": {
        "id": "uZ_rwSzGn1e6",
        "colab": {
          "base_uri": "https://localhost:8080/"
        },
        "outputId": "8de2631b-d91a-45b8-dc3b-ee13d68aa448"
      },
      "execution_count": null,
      "outputs": [
        {
          "output_type": "stream",
          "name": "stdout",
          "text": [
            "45\n"
          ]
        }
      ]
    },
    {
      "cell_type": "code",
      "source": [
        "total = n = 0\n",
        "while(n < 10):\n",
        "  total += n\n",
        "print(total)"
      ],
      "metadata": {
        "id": "fcndMCyzn1h2",
        "colab": {
          "base_uri": "https://localhost:8080/",
          "height": 224
        },
        "outputId": "0ab8cab5-a69a-4a70-c749-e3f15838eedd"
      },
      "execution_count": null,
      "outputs": [
        {
          "output_type": "error",
          "ename": "KeyboardInterrupt",
          "evalue": "ignored",
          "traceback": [
            "\u001b[0;31m---------------------------------------------------------------------------\u001b[0m",
            "\u001b[0;31mKeyboardInterrupt\u001b[0m                         Traceback (most recent call last)",
            "\u001b[0;32m<ipython-input-14-6f52e2f86c1a>\u001b[0m in \u001b[0;36m<module>\u001b[0;34m()\u001b[0m\n\u001b[1;32m      1\u001b[0m \u001b[0mtotal\u001b[0m \u001b[0;34m=\u001b[0m \u001b[0mn\u001b[0m \u001b[0;34m=\u001b[0m \u001b[0;36m0\u001b[0m\u001b[0;34m\u001b[0m\u001b[0;34m\u001b[0m\u001b[0m\n\u001b[0;32m----> 2\u001b[0;31m \u001b[0;32mwhile\u001b[0m\u001b[0;34m(\u001b[0m\u001b[0mn\u001b[0m \u001b[0;34m<\u001b[0m \u001b[0;36m10\u001b[0m\u001b[0;34m)\u001b[0m\u001b[0;34m:\u001b[0m\u001b[0;34m\u001b[0m\u001b[0;34m\u001b[0m\u001b[0m\n\u001b[0m\u001b[1;32m      3\u001b[0m   \u001b[0mtotal\u001b[0m \u001b[0;34m+=\u001b[0m \u001b[0mn\u001b[0m\u001b[0;34m\u001b[0m\u001b[0;34m\u001b[0m\u001b[0m\n\u001b[1;32m      4\u001b[0m \u001b[0mprint\u001b[0m\u001b[0;34m(\u001b[0m\u001b[0mtotal\u001b[0m\u001b[0;34m)\u001b[0m\u001b[0;34m\u001b[0m\u001b[0;34m\u001b[0m\u001b[0m\n",
            "\u001b[0;31mKeyboardInterrupt\u001b[0m: "
          ]
        }
      ]
    },
    {
      "cell_type": "code",
      "source": [
        "total = i = 1\n",
        "n = int(input(\"請輸入正整數n的值:\"))\n",
        "while i<=n:\n",
        "  total *= i\n",
        "  i+=1\n",
        "print(\"%d!=%d\" % (n,total))"
      ],
      "metadata": {
        "id": "ns_t7pj7n1k-",
        "colab": {
          "base_uri": "https://localhost:8080/"
        },
        "outputId": "f1176f08-8db9-4978-e68a-e5c51a8f27d9"
      },
      "execution_count": null,
      "outputs": [
        {
          "output_type": "stream",
          "name": "stdout",
          "text": [
            "請輸入正整數n的值:100\n",
            "100!=93326215443944152681699238856266700490715968264381621468592963895217599993229915608941463976156518286253697920827223758251185210916864000000000000000000000000\n"
          ]
        }
      ]
    },
    {
      "cell_type": "code",
      "source": [
        "total = i = 0\n",
        "while i<=50:\n",
        "  if i % 2 == 0:\n",
        "   total += i\n",
        "  i += 1\n",
        "print(\"0-50的偶數和結果是\",total)"
      ],
      "metadata": {
        "id": "ZzaqiC8pn1n8",
        "colab": {
          "base_uri": "https://localhost:8080/"
        },
        "outputId": "4bf78f3e-df85-4943-a634-7c507b95a008"
      },
      "execution_count": 6,
      "outputs": [
        {
          "output_type": "stream",
          "name": "stdout",
          "text": [
            "0-50的偶數和結果是 650\n"
          ]
        }
      ]
    },
    {
      "cell_type": "code",
      "source": [
        "total = i = 0\n",
        "while i<=50:\n",
        "  if i % 2 == 1:\n",
        "   total += i\n",
        "  i += 1\n",
        "print(\"0-50的奇數和結果是\",total)"
      ],
      "metadata": {
        "id": "Iuz09wm5n1rP",
        "colab": {
          "base_uri": "https://localhost:8080/"
        },
        "outputId": "9dd79a71-0b29-42c3-bff6-dcd837772954"
      },
      "execution_count": 7,
      "outputs": [
        {
          "output_type": "stream",
          "name": "stdout",
          "text": [
            "0-50的奇數和結果是 625\n"
          ]
        }
      ]
    },
    {
      "cell_type": "code",
      "source": [
        "n = int(input(\"請輸入正整數:\"))\n",
        "for i in range(n):\n",
        "  print((n-i)*\"*\")"
      ],
      "metadata": {
        "id": "WWrL5d67n1uV",
        "colab": {
          "base_uri": "https://localhost:8080/"
        },
        "outputId": "098549a8-01d3-4cb8-c505-4afb0674ed6a"
      },
      "execution_count": 8,
      "outputs": [
        {
          "output_type": "stream",
          "name": "stdout",
          "text": [
            "請輸入正整數:7\n",
            "*******\n",
            "******\n",
            "*****\n",
            "****\n",
            "***\n",
            "**\n",
            "*\n"
          ]
        }
      ]
    },
    {
      "cell_type": "code",
      "source": [
        "total = i = 0\n",
        "for i in range(1,101):\n",
        "  if i % 3 ==0 or i % 7 ==0:\n",
        "    total += i\n",
        "  i += 1\n",
        "print(\"數值1-100中，所有是3或是7倍數的數之總和是=\",total)"
      ],
      "metadata": {
        "id": "zXn7lCAvn1xT",
        "colab": {
          "base_uri": "https://localhost:8080/"
        },
        "outputId": "d0c5d0d7-803b-4225-9a61-a1dc2fdd1b62"
      },
      "execution_count": 9,
      "outputs": [
        {
          "output_type": "stream",
          "name": "stdout",
          "text": [
            "數值1-100中，所有是3或是7倍數的數之總和是= 2208\n"
          ]
        }
      ]
    },
    {
      "cell_type": "code",
      "source": [
        "n = int(input(\"請輸入正整數:\"))\n",
        "for i in range(n):\n",
        "  print((n-i)*\"*\")"
      ],
      "metadata": {
        "id": "SUiRNpaGn10b",
        "colab": {
          "base_uri": "https://localhost:8080/"
        },
        "outputId": "8c7ca051-5e1f-46ba-a134-ac3415618630"
      },
      "execution_count": 10,
      "outputs": [
        {
          "output_type": "stream",
          "name": "stdout",
          "text": [
            "請輸入正整數:5\n",
            "*****\n",
            "****\n",
            "***\n",
            "**\n",
            "*\n"
          ]
        }
      ]
    },
    {
      "cell_type": "code",
      "source": [
        "enter = int(input(\"請輸入正整數:\"))\n",
        "for i in range(1,enter+1):\n",
        "  if(enter % i == 0):\n",
        "    print(enter,\"的因數有\",i)\n",
        "c = 2\n",
        "while c < enter:\n",
        "  if enter % c == 0:\n",
        "    print(enter,\"不是質數\")\n",
        "    break\n",
        "  c  += 1\n",
        "if c == enter:\n",
        "  print(enter,\"是質數\")"
      ],
      "metadata": {
        "id": "awlqe6zJn13k",
        "colab": {
          "base_uri": "https://localhost:8080/"
        },
        "outputId": "3c1235f5-1078-4586-8a33-da08b054885b"
      },
      "execution_count": 17,
      "outputs": [
        {
          "output_type": "stream",
          "name": "stdout",
          "text": [
            "請輸入正整數:12\n",
            "12 的因數有 1\n",
            "12 的因數有 2\n",
            "12 的因數有 3\n",
            "12 的因數有 4\n",
            "12 的因數有 6\n",
            "12 的因數有 12\n",
            "12 不是質數\n"
          ]
        }
      ]
    },
    {
      "cell_type": "code",
      "source": [
        "enter = int(input(\"請輸入正整數:\"))\n",
        "for i in range(1,enter+1):\n",
        "  if(enter % i == 0):\n",
        "    print(enter,\"的因數有\",i)\n",
        "c = 2\n",
        "while c < enter:\n",
        "  if enter % c == 0:\n",
        "    print(enter,\"不是質數\")\n",
        "    break\n",
        "  c  += 1\n",
        "if c == enter:\n",
        "  print(enter,\"是質數\")"
      ],
      "metadata": {
        "id": "Cmrhbhsnn16q",
        "colab": {
          "base_uri": "https://localhost:8080/"
        },
        "outputId": "a7218d82-edfe-48cb-888e-823309485b67"
      },
      "execution_count": 18,
      "outputs": [
        {
          "output_type": "stream",
          "name": "stdout",
          "text": [
            "請輸入正整數:11\n",
            "11 的因數有 1\n",
            "11 的因數有 11\n",
            "11 是質數\n"
          ]
        }
      ]
    },
    {
      "cell_type": "code",
      "source": [
        ""
      ],
      "metadata": {
        "id": "t2-oKn0kn199"
      },
      "execution_count": null,
      "outputs": []
    },
    {
      "cell_type": "code",
      "source": [
        ""
      ],
      "metadata": {
        "id": "0uqXWdgxn2BA"
      },
      "execution_count": null,
      "outputs": []
    },
    {
      "cell_type": "code",
      "source": [
        ""
      ],
      "metadata": {
        "id": "72YnzF_Pn2Dg"
      },
      "execution_count": null,
      "outputs": []
    }
  ]
}