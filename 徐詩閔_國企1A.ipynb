{
  "nbformat": 4,
  "nbformat_minor": 0,
  "metadata": {
    "colab": {
      "name": "徐詩閔_國企1A.ipynb",
      "provenance": [],
      "authorship_tag": "ABX9TyMp9gNGmbpnGpBkPVUSrP68",
      "include_colab_link": true
    },
    "kernelspec": {
      "name": "python3",
      "display_name": "Python 3"
    },
    "language_info": {
      "name": "python"
    }
  },
  "cells": [
    {
      "cell_type": "markdown",
      "metadata": {
        "id": "view-in-github",
        "colab_type": "text"
      },
      "source": [
        "<a href=\"https://colab.research.google.com/github/biscuitmin/introduction-for-computers/blob/main/%E5%BE%90%E8%A9%A9%E9%96%94_%E5%9C%8B%E4%BC%811A.ipynb\" target=\"_parent\"><img src=\"https://colab.research.google.com/assets/colab-badge.svg\" alt=\"Open In Colab\"/></a>"
      ]
    },
    {
      "cell_type": "code",
      "execution_count": null,
      "metadata": {
        "id": "jgTwAI2c47Vl"
      },
      "outputs": [],
      "source": [
        ""
      ]
    },
    {
      "cell_type": "code",
      "source": [
        "Player=['Curry','Green','Durant','Looney','Thompson']\n",
        "Fraction = [30,5,22,6,28]\n",
        "print(\"金洲勇士現在有的球員陣容=\",Player[0:4])\n",
        "print(\"勇士今天最高的三個得分\",Fraction[0:5:2])\n",
        "print(\"球員分別為\",Player[0:5:2])\n",
        "print(\"勇士今天最低的兩個得分\",Fraction[1:4:2])\n",
        "print(\"球員分別為\",Player[1:4:2])\n",
        "print(\"勇士今天最高得分為Curry分數為\",max(Fraction),\"分\")\n",
        "print(\"勇士今天最低得分為Looney分數為\",min(Fraction),\"分\")"
      ],
      "metadata": {
        "colab": {
          "base_uri": "https://localhost:8080/"
        },
        "id": "-a5r7brD47wf",
        "outputId": "fa75103d-59a8-40f4-b381-9d9b9eb2f097"
      },
      "execution_count": 18,
      "outputs": [
        {
          "output_type": "stream",
          "name": "stdout",
          "text": [
            "金洲勇士現在有的球員陣容= ['Curry', 'Green', 'Durant', 'Looney']\n",
            "勇士今天最高的三個得分 [30, 22, 28]\n",
            "球員分別為 ['Curry', 'Durant', 'Thompson']\n",
            "勇士今天最低的兩個得分 [5, 6]\n",
            "球員分別為 ['Green', 'Looney']\n",
            "勇士今天最高得分為Curry分數為 30 分\n",
            "勇士今天最低得分為Looney分數為 5 分\n"
          ]
        }
      ]
    },
    {
      "cell_type": "code",
      "source": [
        ""
      ],
      "metadata": {
        "id": "t_mys5iG47zS"
      },
      "execution_count": null,
      "outputs": []
    },
    {
      "cell_type": "code",
      "source": [
        ""
      ],
      "metadata": {
        "id": "bXG512kS472S"
      },
      "execution_count": null,
      "outputs": []
    },
    {
      "cell_type": "code",
      "source": [
        ""
      ],
      "metadata": {
        "id": "AQvBtHMK475U"
      },
      "execution_count": null,
      "outputs": []
    },
    {
      "cell_type": "code",
      "source": [
        ""
      ],
      "metadata": {
        "id": "5pdPi64P478Q"
      },
      "execution_count": null,
      "outputs": []
    },
    {
      "cell_type": "code",
      "source": [
        ""
      ],
      "metadata": {
        "id": "Op0dExro47_D"
      },
      "execution_count": null,
      "outputs": []
    },
    {
      "cell_type": "code",
      "source": [
        ""
      ],
      "metadata": {
        "id": "S9nUPqbb48Cb"
      },
      "execution_count": null,
      "outputs": []
    }
  ]
}