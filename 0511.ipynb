{
  "nbformat": 4,
  "nbformat_minor": 0,
  "metadata": {
    "colab": {
      "name": "0511.ipynb",
      "provenance": [],
      "collapsed_sections": [],
      "authorship_tag": "ABX9TyMvgcRGrn8lJtinCSAt12ut",
      "include_colab_link": true
    },
    "kernelspec": {
      "name": "python3",
      "display_name": "Python 3"
    },
    "language_info": {
      "name": "python"
    }
  },
  "cells": [
    {
      "cell_type": "markdown",
      "metadata": {
        "id": "view-in-github",
        "colab_type": "text"
      },
      "source": [
        "<a href=\"https://colab.research.google.com/github/biscuitmin/introduction-for-computers/blob/main/0511.ipynb\" target=\"_parent\"><img src=\"https://colab.research.google.com/assets/colab-badge.svg\" alt=\"Open In Colab\"/></a>"
      ]
    },
    {
      "cell_type": "code",
      "execution_count": 1,
      "metadata": {
        "colab": {
          "base_uri": "https://localhost:8080/"
        },
        "id": "CCGIGvvDZpkN",
        "outputId": "d195ca1c-861d-4b34-b9cc-6a29fa2bc792"
      },
      "outputs": [
        {
          "output_type": "stream",
          "name": "stdout",
          "text": [
            "test\n"
          ]
        }
      ],
      "source": [
        "print(\"test\")"
      ]
    },
    {
      "cell_type": "code",
      "source": [
        "temp=float(input(\"請輸入你的體溫:\"))\n",
        "if temp>= 37.5:\n",
        "  print(\"體溫過高\")\n",
        "elif temp>= 37 and temp<37.4:\n",
        "  print(\"體溫略高\")\n",
        "elif temp>=34 and temp<36.9:\n",
        "  print(\"體溫正常\")\n",
        "else:\n",
        "  print(\"體溫異常，請重新測量\")"
      ],
      "metadata": {
        "colab": {
          "base_uri": "https://localhost:8080/"
        },
        "id": "fRSMuu8rZrXf",
        "outputId": "34164ffa-c5d1-47d8-e178-573b7c982c9d"
      },
      "execution_count": 2,
      "outputs": [
        {
          "output_type": "stream",
          "name": "stdout",
          "text": [
            "請輸入你的體溫:37.5\n",
            "體溫過高\n"
          ]
        }
      ]
    },
    {
      "cell_type": "code",
      "source": [
        "money = int(input(\"請輸入購物金額:\"))\n",
        "if(money>= 10000):\n",
        "  if(money>=100000):\n",
        "    print(\"八折\",money*0.8,end=\"元\\n\")\n",
        "  elif(money>=50000):\n",
        "    print(\"八五折\",money*0.85,end=\"元\\n\")\n",
        "  elif(money>=30000):\n",
        "    print(\"九折\",money*0.9,end=\"元\\n\")  \n",
        "  else:\n",
        "    print(\"九五折\",money*0.95,end=\"元\\n\")\n",
        "else:\n",
        "  print(\"沒打折\",money,end=\"元\\n\")"
      ],
      "metadata": {
        "colab": {
          "base_uri": "https://localhost:8080/"
        },
        "id": "FeKclY7YZrnw",
        "outputId": "2aaca85b-2053-44e9-f4f7-7c166701c67e"
      },
      "execution_count": 12,
      "outputs": [
        {
          "output_type": "stream",
          "name": "stdout",
          "text": [
            "請輸入購物金額:60000\n",
            "沒打折 60000元\n"
          ]
        }
      ]
    },
    {
      "cell_type": "code",
      "source": [
        "money = int(input(\"請輸入今年收入淨額:\"))\n",
        "if(money>= 300000):\n",
        "  if(money>=2000000):\n",
        "    print(\"付稅金額:\",money*0.3,end=\"元\\n\")\n",
        "  elif(money>=1000000 and money<=1999999):\n",
        "    print(\"付稅金額:\",money*0.21,end=\"元\\n\")\n",
        "  elif(money>=600000 and money<999999):\n",
        "    print(\"付稅金額:\",money*0.13,end=\"元\\n\")  \n",
        "  else:\n",
        "    print(\"付稅金額:\",money*0.06,end=\"元\\n\")\n",
        "else:\n",
        "  print(\"付稅金額:\",money*0,end=\"元\\n\")"
      ],
      "metadata": {
        "colab": {
          "base_uri": "https://localhost:8080/"
        },
        "id": "tUnWnUqHZrrS",
        "outputId": "0ca4817a-f118-4033-ead2-66a57a662e23"
      },
      "execution_count": 21,
      "outputs": [
        {
          "output_type": "stream",
          "name": "stdout",
          "text": [
            "請輸入今年收入淨額:150000\n",
            "付稅金額: 0元\n"
          ]
        }
      ]
    },
    {
      "cell_type": "code",
      "source": [
        "score=int(input(\"請輸入成績\"))\n",
        "if(score>=60):\n",
        "  if(score>=90):\n",
        "    print(\"A\")\n",
        "  elif(score<90 and score>=80):\n",
        "    print(\"B\")\n",
        "  elif(score<80 and score>=79):\n",
        "    print(\"C\")\n",
        "  else:\n",
        "    print(\"D\")\n",
        "\n",
        "else:\n",
        "  print(\"E\")"
      ],
      "metadata": {
        "colab": {
          "base_uri": "https://localhost:8080/"
        },
        "id": "EB2lMeDtZruh",
        "outputId": "e9eb78af-0a7c-4593-f475-bf4c37e00b1e"
      },
      "execution_count": 25,
      "outputs": [
        {
          "output_type": "stream",
          "name": "stdout",
          "text": [
            "請輸入成績59\n",
            "E\n"
          ]
        }
      ]
    },
    {
      "cell_type": "code",
      "source": [
        "month=int(input(\"請輸入月份:\"))\n",
        "if(month<=12):\n",
        "  if(month>=3 and month<=5):\n",
        "    print(month,\"月是春天\")\n",
        "  elif(month>=6 and month<=8):\n",
        "    print(month,\"月是夏天\")\n",
        "  else:\n",
        "    print(month,\"月是冬天\")\n",
        "else:\n",
        "  print(\"月份不再範圍內\")"
      ],
      "metadata": {
        "colab": {
          "base_uri": "https://localhost:8080/"
        },
        "id": "7aWFmKquZryJ",
        "outputId": "4e4f5d70-5ab1-4bbc-f7b0-77cb8bf74840"
      },
      "execution_count": 29,
      "outputs": [
        {
          "output_type": "stream",
          "name": "stdout",
          "text": [
            "請輸入月份:90\n",
            "月份不再範圍內\n"
          ]
        }
      ]
    },
    {
      "cell_type": "code",
      "source": [
        ""
      ],
      "metadata": {
        "id": "_RfNLUl7Zr2A"
      },
      "execution_count": null,
      "outputs": []
    },
    {
      "cell_type": "code",
      "source": [
        ""
      ],
      "metadata": {
        "id": "vh6PXFYuZr5J"
      },
      "execution_count": null,
      "outputs": []
    },
    {
      "cell_type": "code",
      "source": [
        ""
      ],
      "metadata": {
        "id": "euBdM4_8Zr8i"
      },
      "execution_count": null,
      "outputs": []
    },
    {
      "cell_type": "code",
      "source": [
        ""
      ],
      "metadata": {
        "id": "7mOzM0f0Zr_p"
      },
      "execution_count": null,
      "outputs": []
    },
    {
      "cell_type": "code",
      "source": [
        ""
      ],
      "metadata": {
        "id": "-aWZMRYKZsCw"
      },
      "execution_count": null,
      "outputs": []
    },
    {
      "cell_type": "code",
      "source": [
        ""
      ],
      "metadata": {
        "id": "YpybhDMxZsGJ"
      },
      "execution_count": null,
      "outputs": []
    },
    {
      "cell_type": "code",
      "source": [
        ""
      ],
      "metadata": {
        "id": "S86a_i22ZsJI"
      },
      "execution_count": null,
      "outputs": []
    },
    {
      "cell_type": "code",
      "source": [
        ""
      ],
      "metadata": {
        "id": "Uu2bG9QrZsL7"
      },
      "execution_count": null,
      "outputs": []
    }
  ]
}